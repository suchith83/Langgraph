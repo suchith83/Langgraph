{
 "cells": [
  {
   "cell_type": "code",
   "execution_count": 3,
   "id": "947a085a",
   "metadata": {},
   "outputs": [],
   "source": [
    "from langgraph.graph import StateGraph, START, END\n",
    "from typing import TypedDict, List\n",
    "import random"
   ]
  },
  {
   "cell_type": "code",
   "execution_count": 2,
   "id": "cacb8588",
   "metadata": {},
   "outputs": [],
   "source": [
    "class AgentState(TypedDict):\n",
    "    name: str\n",
    "    counter : int\n",
    "    numbers : List[int]\n",
    "\n"
   ]
  },
  {
   "cell_type": "code",
   "execution_count": 4,
   "id": "92c58965",
   "metadata": {},
   "outputs": [],
   "source": [
    "def greetings_node(state: AgentState) -> AgentState:\n",
    "    state['name'] = f\"Hi, {state['name']}!\"\n",
    "    state['counter'] = 0\n",
    "    state['numbers'] = []\n",
    "    return state\n",
    "\n",
    "def increment_node(state: AgentState) -> AgentState:\n",
    "    state['counter'] += 1\n",
    "    state['numbers'].append(random.randint(1, 100))\n",
    "    return state\n",
    "\n",
    "def decide_next_node(state: AgentState) -> str:\n",
    "    if state['counter'] < 5:\n",
    "        return 'increment'\n",
    "    else:\n",
    "        return 'end'"
   ]
  },
  {
   "cell_type": "code",
   "execution_count": 6,
   "id": "86f0f278",
   "metadata": {},
   "outputs": [],
   "source": [
    "graph = StateGraph(AgentState)\n",
    "\n",
    "graph.add_node(\"greetings\", greetings_node)\n",
    "graph.add_node(\"random_node\", increment_node)\n",
    "\n",
    "graph.add_conditional_edges(\n",
    "    \"random_node\",\n",
    "    decide_next_node,\n",
    "    {\n",
    "        'increment': 'random_node',\n",
    "        'end': END\n",
    "    }\n",
    ")\n",
    "graph.add_edge(START, \"greetings\")\n",
    "graph.add_edge(\"greetings\", \"random_node\")\n",
    "graph.add_edge(\"random_node\", END)\n",
    "\n",
    "app = graph.compile()"
   ]
  },
  {
   "cell_type": "code",
   "execution_count": 8,
   "id": "32dd7db8",
   "metadata": {},
   "outputs": [
    {
     "data": {
      "image/png": "[encoded data removed]",
      "text/plain": [
       "<IPython.core.display.Image object>"
      ]
     },
     "metadata": {},
     "output_type": "display_data"
    }
   ],
   "source": [
    "from IPython.display import Image, display\n",
    "display(Image(app.get_graph().draw_mermaid_png()))"
   ]
  },
  {
   "cell_type": "code",
   "execution_count": 7,
   "id": "30ba3774",
   "metadata": {},
   "outputs": [
    {
     "name": "stdout",
     "output_type": "stream",
     "text": [
      "{'name': 'Hi, Alice!', 'counter': 5, 'numbers': [18, 48, 27, 93, 44]}\n"
     ]
    }
   ],
   "source": [
    "initial_state = AgentState(name=\"Alice\", counter=-2, numbers=[])\n",
    "print(app.invoke(initial_state))"
   ]
  }
 ],
 "metadata": {
  "kernelspec": {
   "display_name": "Python 3",
   "language": "python",
   "name": "python3"
  },
  "language_info": {
   "codemirror_mode": {
    "name": "ipython",
    "version": 3
   },
   "file_extension": ".py",
   "mimetype": "text/x-python",
   "name": "python",
   "nbconvert_exporter": "python",
   "pygments_lexer": "ipython3",
   "version": "3.12.1"
  }
 },
 "nbformat": 4,
 "nbformat_minor": 5
}
