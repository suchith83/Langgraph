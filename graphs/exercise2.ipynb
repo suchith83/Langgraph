{
 "cells": [
  {
   "cell_type": "code",
   "execution_count": 2,
   "id": "3619c294",
   "metadata": {},
   "outputs": [],
   "source": [
    "from typing import TypedDict, List\n",
    "from langgraph.graph import StateGraph"
   ]
  },
  {
   "cell_type": "code",
   "execution_count": 3,
   "id": "1ad9dcd9",
   "metadata": {},
   "outputs": [],
   "source": [
    "class AgentState(TypedDict):\n",
    "    name : str\n",
    "    operation : str\n",
    "    result : str\n",
    "    values : List[str]"
   ]
  },
  {
   "cell_type": "code",
   "execution_count": 7,
   "id": "bcc81d0b",
   "metadata": {},
   "outputs": [],
   "source": [
    "def process_state(state: AgentState) -> AgentState:\n",
    "    \"\"\"AgentState processing function.\"\"\"\n",
    "    if state['operation'] == '+':\n",
    "        state['result'] = f'Hey {state[\"name\"]}, your answer is {sum(state[\"values\"])}.'\n",
    "    elif state['operation'] == '*':\n",
    "        product = 1\n",
    "        for value in state['values']:\n",
    "            product *= value\n",
    "        state['result'] = f'Hey {state[\"name\"]}, your answer is {product}.'\n",
    "    else: \n",
    "        state['result'] = 'hey something went wrong'\n",
    "    return state\n",
    "\n"
   ]
  },
  {
   "cell_type": "code",
   "execution_count": 8,
   "id": "98a6d707",
   "metadata": {},
   "outputs": [],
   "source": [
    "graph = StateGraph(AgentState)\n",
    "\n",
    "graph.add_node(\"processor\", process_state)\n",
    "graph.set_entry_point(\"processor\")\n",
    "graph.set_finish_point(\"processor\")\n",
    "\n",
    "app = graph.compile()"
   ]
  },
  {
   "cell_type": "code",
   "execution_count": 9,
   "id": "c096052b",
   "metadata": {},
   "outputs": [
    {
     "name": "stdout",
     "output_type": "stream",
     "text": [
      "{'name': 'Alice', 'operation': '+', 'result': 'Hey Alice, your answer is 10.', 'values': [1, 2, 3, 4]}\n"
     ]
    }
   ],
   "source": [
    "result = app.invoke(\n",
    "    AgentState(\n",
    "        name=\"Alice\",\n",
    "        operation=\"+\",\n",
    "        values=[1, 2, 3, 4]\n",
    "    )\n",
    ")\n",
    "print(result)"
   ]
  },
  {
   "cell_type": "code",
   "execution_count": 10,
   "id": "6b0f2317",
   "metadata": {},
   "outputs": [
    {
     "name": "stdout",
     "output_type": "stream",
     "text": [
      "{'name': 'Bob', 'operation': '*', 'result': 'Hey Bob, your answer is 24.', 'values': [1, 2, 3, 4]}\n"
     ]
    }
   ],
   "source": [
    "result2 = app.invoke(\n",
    "    AgentState(\n",
    "        name=\"Bob\",\n",
    "        operation=\"*\",\n",
    "        values=[1, 2, 3, 4]\n",
    "    )\n",
    ")\n",
    "print(result2)"
   ]
  },
  {
   "cell_type": "code",
   "execution_count": null,
   "id": "53e0bf9b",
   "metadata": {},
   "outputs": [],
   "source": []
  }
 ],
 "metadata": {
  "kernelspec": {
   "display_name": "Python 3",
   "language": "python",
   "name": "python3"
  },
  "language_info": {
   "codemirror_mode": {
    "name": "ipython",
    "version": 3
   },
   "file_extension": ".py",
   "mimetype": "text/x-python",
   "name": "python",
   "nbconvert_exporter": "python",
   "pygments_lexer": "ipython3",
   "version": "3.12.1"
  }
 },
 "nbformat": 4,
 "nbformat_minor": 5
}
