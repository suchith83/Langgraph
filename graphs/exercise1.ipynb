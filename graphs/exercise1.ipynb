{
 "cells": [
  {
   "cell_type": "code",
   "execution_count": 1,
   "id": "e0a06c43",
   "metadata": {},
   "outputs": [],
   "source": [
    "from typing import Dict, TypedDict \n",
    "from langgraph.graph import StateGraph\n"
   ]
  },
  {
   "cell_type": "code",
   "execution_count": 2,
   "id": "391dc70a",
   "metadata": {},
   "outputs": [],
   "source": [
    "class AgentState(TypedDict):\n",
    "    \"\"\"\n",
    "    The state of the agent, which includes the current graph and any additional data.\n",
    "    \"\"\"\n",
    "    name : str\n",
    "    compliment : str\n",
    "\n",
    "def compliment_state(state: AgentState) -> AgentState:\n",
    "    \"\"\"\n",
    "    A function that modifies the state by adding a compliment.\n",
    "    \"\"\"\n",
    "    state['compliment'] = state['name'] + ', you are doing an amazing job learning LangGraph!'\n",
    "    return state\n",
    "\n"
   ]
  },
  {
   "cell_type": "code",
   "execution_count": 3,
   "id": "a583086c",
   "metadata": {},
   "outputs": [],
   "source": [
    "graph = StateGraph(AgentState)\n",
    "\n",
    "graph.add_node(\"complimenter\", compliment_state)\n",
    "graph.set_entry_point(\"complimenter\")\n",
    "graph.set_finish_point(\"complimenter\")\n",
    "\n",
    "app = graph.compile()"
   ]
  },
  {
   "cell_type": "code",
   "execution_count": 4,
   "id": "84b737b8",
   "metadata": {},
   "outputs": [
    {
     "data": {
      "text/plain": [
       "'Alice, you are doing an amazing job learning LangGraph!'"
      ]
     },
     "execution_count": 4,
     "metadata": {},
     "output_type": "execute_result"
    }
   ],
   "source": [
    "result = app.invoke({\"name\": \"Alice\", \"compliment\": \"\"})\n",
    "result[\"compliment\"]"
   ]
  }
 ],
 "metadata": {
  "kernelspec": {
   "display_name": "Python 3",
   "language": "python",
   "name": "python3"
  },
  "language_info": {
   "codemirror_mode": {
    "name": "ipython",
    "version": 3
   },
   "file_extension": ".py",
   "mimetype": "text/x-python",
   "name": "python",
   "nbconvert_exporter": "python",
   "pygments_lexer": "ipython3",
   "version": "3.12.1"
  }
 },
 "nbformat": 4,
 "nbformat_minor": 5
}
